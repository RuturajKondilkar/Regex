{
 "cells": [
  {
   "cell_type": "markdown",
   "id": "5a48b042",
   "metadata": {},
   "source": [
    "# ML & DL Registration / Referral ID: AIRSS1219 Full Name: Ruturaj Kondilkar                         College Name: K. J. Somaiya College of Engineering,Vidyavihar\n"
   ]
  },
  {
   "cell_type": "markdown",
   "id": "06d7e73a",
   "metadata": {},
   "source": [
    "Assignment 2\n"
   ]
  },
  {
   "cell_type": "markdown",
   "id": "41841077",
   "metadata": {},
   "source": [
    "Q1. Write a lambda expression to extract first word of a string."
   ]
  },
  {
   "cell_type": "code",
   "execution_count": 1,
   "id": "d8e882da",
   "metadata": {},
   "outputs": [
    {
     "name": "stdout",
     "output_type": "stream",
     "text": [
      "My\n"
     ]
    }
   ],
   "source": [
    "l = (lambda string: string.split()[0])\n",
    "print(l('My name is Ruturaj'))"
   ]
  },
  {
   "cell_type": "markdown",
   "id": "b65d5dbd",
   "metadata": {},
   "source": [
    "Q2. Write a function to extract first word of s string (with many words separated by space)."
   ]
  },
  {
   "cell_type": "code",
   "execution_count": 1,
   "id": "8ec8ee60",
   "metadata": {},
   "outputs": [
    {
     "name": "stdout",
     "output_type": "stream",
     "text": [
      "Enter a string: My name is ruturaj - pleasure to meet you , have a nice day\n",
      "My\n"
     ]
    }
   ],
   "source": [
    "def extract(string):\n",
    "    return string.split()[0]\n",
    "\n",
    "string = input(\"Enter a string: \")\n",
    "\n",
    "print(extract(string))"
   ]
  },
  {
   "cell_type": "markdown",
   "id": "fc8d8f60",
   "metadata": {},
   "source": [
    "Q3. Extract the first word from every string from a list of strings by using map function."
   ]
  },
  {
   "cell_type": "code",
   "execution_count": 2,
   "id": "d98ee513",
   "metadata": {},
   "outputs": [
    {
     "data": {
      "text/plain": [
       "['My', 'pleasure', 'have']"
      ]
     },
     "execution_count": 2,
     "metadata": {},
     "output_type": "execute_result"
    }
   ],
   "source": [
    "list_string = ['My name is ruturaj','pleasure to meet you','have a nice day']\n",
    "list(map(extract, list_string))"
   ]
  },
  {
   "cell_type": "markdown",
   "id": "c2967f3d",
   "metadata": {},
   "source": [
    "Q4. Write a function to return a list of prime factors of a given number."
   ]
  },
  {
   "cell_type": "code",
   "execution_count": 3,
   "id": "97e1edd9",
   "metadata": {},
   "outputs": [],
   "source": [
    "import math\n",
    "def primefactors(n):\n",
    "   \n",
    "     while n % 2 == 0:\n",
    "        print (2),\n",
    "        n = n / 2\n",
    "    \n",
    "   \n",
    "     for i in range(3,int(math.sqrt(n))+1,2):\n",
    "     \n",
    "         while (n % i == 0):\n",
    "            print (i)\n",
    "            n = n / i\n",
    "    \n",
    "     if n > 2:\n",
    "        print (n)"
   ]
  },
  {
   "cell_type": "code",
   "execution_count": 4,
   "id": "40af73b0",
   "metadata": {},
   "outputs": [
    {
     "name": "stdout",
     "output_type": "stream",
     "text": [
      "Enter the number for calculating the prime factors :\n",
      "45\n",
      "3\n",
      "3\n",
      "5\n"
     ]
    }
   ],
   "source": [
    "n = int(input(\"Enter the number for calculating the prime factors :\\n\"))\n",
    "primefactors(n)"
   ]
  },
  {
   "cell_type": "markdown",
   "id": "79c66442",
   "metadata": {},
   "source": [
    "Q5. Write a function that finds 2nd largest among 4 numbers (Repetitions are allowed,\n",
    "without sorting)."
   ]
  },
  {
   "cell_type": "code",
   "execution_count": 5,
   "id": "6542f628",
   "metadata": {},
   "outputs": [
    {
     "name": "stdout",
     "output_type": "stream",
     "text": [
      "Enter  numbers: 1\n",
      "Enter  numbers: 2\n",
      "Enter  numbers: 3\n",
      "Enter  numbers: 4\n",
      "[1, 2, 3, 4]\n"
     ]
    },
    {
     "data": {
      "text/plain": [
       "3"
      ]
     },
     "execution_count": 5,
     "metadata": {},
     "output_type": "execute_result"
    }
   ],
   "source": [
    "numbers= []\n",
    "\n",
    "for i in range(4):\n",
    "    num = int(input(\"Enter  numbers: \"))\n",
    "    numbers.append(num)\n",
    "print(numbers)\n",
    "\n",
    "\n",
    "def second_largest() :\n",
    "    max_num = max(numbers) \n",
    "    return max(numbers, key = lambda x : min(numbers)-1 if (x == max_num) else x)\n",
    "\n",
    "second_largest()"
   ]
  },
  {
   "cell_type": "code",
   "execution_count": null,
   "id": "5dac89b8",
   "metadata": {},
   "outputs": [],
   "source": []
  }
 ],
 "metadata": {
  "kernelspec": {
   "display_name": "Python 3",
   "language": "python",
   "name": "python3"
  },
  "language_info": {
   "codemirror_mode": {
    "name": "ipython",
    "version": 3
   },
   "file_extension": ".py",
   "mimetype": "text/x-python",
   "name": "python",
   "nbconvert_exporter": "python",
   "pygments_lexer": "ipython3",
   "version": "3.8.8"
  }
 },
 "nbformat": 4,
 "nbformat_minor": 5
}
